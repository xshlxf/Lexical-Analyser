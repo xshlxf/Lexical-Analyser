{
  "nbformat": 4,
  "nbformat_minor": 0,
  "metadata": {
    "colab": {
      "provenance": []
    },
    "kernelspec": {
      "name": "python3",
      "display_name": "Python 3"
    },
    "language_info": {
      "name": "python"
    }
  },
  "cells": [
    {
      "cell_type": "markdown",
      "source": [
        "#CFG's"
      ],
      "metadata": {
        "id": "OMyj91yzZfS6"
      }
    },
    {
      "cell_type": "code",
      "source": [
        "def is_palindrome(s):\n",
        "    return s == s[::-1]\n",
        "\n",
        "def has_equal_a_b(s):\n",
        "    count_a = s.count('a')\n",
        "    count_b = s.count('b')\n",
        "    return count_a == count_b\n",
        "\n",
        "def is_balanced_parentheses(s):\n",
        "    balance = 0\n",
        "    for char in s:\n",
        "        if char == '(':\n",
        "            balance += 1\n",
        "        elif char == ')':\n",
        "            balance -= 1\n",
        "        if balance < 0:\n",
        "            return False\n",
        "    return balance == 0\n",
        "\n",
        "def is_a_n_b_n_c_n(s):\n",
        "    n = len(s) // 3\n",
        "    return s[:n] == 'a' * n and s[n:2*n] == 'b' * n and s[2*n:] == 'c' * n\n"
      ],
      "metadata": {
        "id": "QdCOft-dRaHE"
      },
      "execution_count": null,
      "outputs": []
    },
    {
      "cell_type": "markdown",
      "source": [
        "##Productions"
      ],
      "metadata": {
        "id": "e56XPrzRZ_RO"
      }
    },
    {
      "cell_type": "code",
      "source": [
        "# Test examples\n",
        "examples = {\n",
        "    \"palindromes\": [\"\", \"a\", \"aa\", \"aba\", \"abba\", \"abc\"],\n",
        "    \"equal_a_b\": [\"\", \"ab\", \"ba\", \"aabb\", \"abab\", \"aaa\"],\n",
        "    \"balanced_parentheses\": [\"\", \"()\", \"(())\", \"()()\", \"(()\", \")(\"],\n",
        "    \"a^n_b^n_c^n\": [\"\", \"abc\", \"aabbcc\", \"aaabbbccc\", \"aabbc\"],\n",
        "}\n",
        "# Map functions of verification\n",
        "validators = {\n",
        "    \"palindromes\": is_palindrome,\n",
        "    \"equal_a_b\": has_equal_a_b,\n",
        "    \"balanced_parentheses\": is_balanced_parentheses,\n",
        "    \"a^n_b^n_c^n\": is_a_n_b_n_c_n,\n",
        "}\n",
        "\n",
        "# Verify Strings examples\n",
        "for grammar_name, test_strings in examples.items():\n",
        "    print(f\"Testing grammar: {grammar_name}\")\n",
        "    for string in test_strings:\n",
        "        result = validators[grammar_name](string)\n",
        "        status = \"ACCEPTED\" if result else \"REJECTED\"\n",
        "        print(f\"  String '{string}': {status}\")\n",
        "    print()"
      ],
      "metadata": {
        "colab": {
          "base_uri": "https://localhost:8080/"
        },
        "id": "TJ4dN0d-ZZBp",
        "outputId": "0e249d38-6c81-4890-e8c8-a588bb95429a"
      },
      "execution_count": null,
      "outputs": [
        {
          "output_type": "stream",
          "name": "stdout",
          "text": [
            "Testing grammar: palindromes\n",
            "  String '': ACCEPTED\n",
            "  String 'a': ACCEPTED\n",
            "  String 'aa': ACCEPTED\n",
            "  String 'aba': ACCEPTED\n",
            "  String 'abba': ACCEPTED\n",
            "  String 'abc': REJECTED\n",
            "\n",
            "Testing grammar: equal_a_b\n",
            "  String '': ACCEPTED\n",
            "  String 'ab': ACCEPTED\n",
            "  String 'ba': ACCEPTED\n",
            "  String 'aabb': ACCEPTED\n",
            "  String 'abab': ACCEPTED\n",
            "  String 'aaa': REJECTED\n",
            "\n",
            "Testing grammar: balanced_parentheses\n",
            "  String '': ACCEPTED\n",
            "  String '()': ACCEPTED\n",
            "  String '(())': ACCEPTED\n",
            "  String '()()': ACCEPTED\n",
            "  String '(()': REJECTED\n",
            "  String ')(': REJECTED\n",
            "\n",
            "Testing grammar: a^n_b^n_c^n\n",
            "  String '': ACCEPTED\n",
            "  String 'abc': ACCEPTED\n",
            "  String 'aabbcc': ACCEPTED\n",
            "  String 'aaabbbccc': ACCEPTED\n",
            "  String 'aabbc': REJECTED\n",
            "\n"
          ]
        }
      ]
    },
    {
      "cell_type": "markdown",
      "source": [
        "##Generative Gemini Examples"
      ],
      "metadata": {
        "id": "7OsOCQ63aE-m"
      }
    },
    {
      "cell_type": "code",
      "source": [
        "# Test Gemini AI examples\n",
        "examples = {\n",
        "    \"palindromes\": [\n",
        "        \"racecar\",  # Valid palindrome\n",
        "        \"level\",    # Valid palindrome\n",
        "        \"abccba\",   # Valid palindrome\n",
        "        \"xyz\",      # Invalid palindrome, not symmetric\n",
        "        \"12321\",    # Valid palindrome with numbers\n",
        "        \"a\",        # Valid palindrome, single character\n",
        "        \"abba\",     # Valid palindrome with repeated characters\n",
        "    ],\n",
        "    \"equal_a_b\": [\n",
        "        \"aabb\",    # Valid, equal number of 'a' and 'b'\n",
        "        \"abab\",    # Valid, equal number of 'a' and 'b'\n",
        "        \"baab\",    # Valid, equal number of 'a' and 'b'\n",
        "        \"aaaabbbb\",# Valid, equal number of 'a' and 'b'\n",
        "        \"ab\",       # Invalid, unequal number of 'a' and 'b'\n",
        "        \"aab\",      # Invalid, unequal number of 'a' and 'b'\n",
        "        \"\",         # Valid, empty string has 0 'a' and 0 'b'\n",
        "    ],\n",
        "    \"balanced_parentheses\": [\n",
        "        \"()\",       # Valid, simple pair\n",
        "        \"()()\",     # Valid, nested pairs\n",
        "        \"(()())\",   # Valid, nested pairs\n",
        "        \"(())()\",   # Valid, multiple pairs\n",
        "        \"())\",      # Invalid, unbalanced\n",
        "        \"(()\",      # Invalid, unbalanced\n",
        "        \"(())(\",     # Invalid, unbalanced\n",
        "        \"\",         # Valid, empty string\n",
        "    ],\n",
        "    \"a^n_b^n_c^n\": [\n",
        "        \"abc\",      # Valid, n = 1\n",
        "        \"aabbcc\",   # Valid, n = 2\n",
        "        \"aaabbbccc\",# Valid, n = 3\n",
        "        \"abbc\",     # Invalid, unequal number of 'a', 'b', and 'c'\n",
        "        \"abcc\",     # Invalid, unequal number of 'a', 'b', and 'c'\n",
        "        \"aabbc\",    # Invalid, unequal number of 'a', 'b', and 'c'\n",
        "        \"\",         # Invalid, empty string\n",
        "    ],\n",
        "}\n",
        "validators = {\n",
        "    \"palindromes\": is_palindrome,\n",
        "    \"equal_a_b\": has_equal_a_b,\n",
        "    \"balanced_parentheses\": is_balanced_parentheses,\n",
        "    \"a^n_b^n_c^n\": is_a_n_b_n_c_n,\n",
        "}\n",
        "\n",
        "# Verify AI given Examples\n",
        "print(\"Gemini AI given examples\")\n",
        "for grammar_name, test_strings in examples.items():\n",
        "    print(f\"Testing AI given grammar: {grammar_name}\")\n",
        "    for string in test_strings:\n",
        "        result = validators[grammar_name](string)\n",
        "        status = \"ACCEPTED\" if result else \"REJECTED\"\n",
        "        print(f\"  String '{string}': {status}\")\n",
        "    print()"
      ],
      "metadata": {
        "colab": {
          "base_uri": "https://localhost:8080/"
        },
        "id": "G8m3IVOPZcDr",
        "outputId": "e3232eaf-f301-41ad-b503-1beb6cb67244"
      },
      "execution_count": null,
      "outputs": [
        {
          "output_type": "stream",
          "name": "stdout",
          "text": [
            "Gemini AI given examples\n",
            "Testing AI given grammar: palindromes\n",
            "  String 'racecar': ACCEPTED\n",
            "  String 'level': ACCEPTED\n",
            "  String 'abccba': ACCEPTED\n",
            "  String 'xyz': REJECTED\n",
            "  String '12321': ACCEPTED\n",
            "  String 'a': ACCEPTED\n",
            "  String 'abba': ACCEPTED\n",
            "\n",
            "Testing AI given grammar: equal_a_b\n",
            "  String 'aabb': ACCEPTED\n",
            "  String 'abab': ACCEPTED\n",
            "  String 'baab': ACCEPTED\n",
            "  String 'aaaabbbb': ACCEPTED\n",
            "  String 'ab': ACCEPTED\n",
            "  String 'aab': REJECTED\n",
            "  String '': ACCEPTED\n",
            "\n",
            "Testing AI given grammar: balanced_parentheses\n",
            "  String '()': ACCEPTED\n",
            "  String '()()': ACCEPTED\n",
            "  String '(()())': ACCEPTED\n",
            "  String '(())()': ACCEPTED\n",
            "  String '())': REJECTED\n",
            "  String '(()': REJECTED\n",
            "  String '(())(': REJECTED\n",
            "  String '': ACCEPTED\n",
            "\n",
            "Testing AI given grammar: a^n_b^n_c^n\n",
            "  String 'abc': ACCEPTED\n",
            "  String 'aabbcc': ACCEPTED\n",
            "  String 'aaabbbccc': ACCEPTED\n",
            "  String 'abbc': REJECTED\n",
            "  String 'abcc': REJECTED\n",
            "  String 'aabbc': REJECTED\n",
            "  String '': ACCEPTED\n",
            "\n"
          ]
        }
      ]
    },
    {
      "cell_type": "markdown",
      "source": [
        "##Generative OpenAI model GPT-4o mini Examples"
      ],
      "metadata": {
        "id": "tepKcI3_azuZ"
      }
    },
    {
      "cell_type": "code",
      "source": [
        "examples = {\n",
        "    \"palindromes\": [  # Strings that read the same forward and backward\n",
        "        \"racecar\",   # Valid: 'racecar' reads the same forward and backward.\n",
        "        \"level\",     # Valid: 'level' reads the same forward and backward.\n",
        "        \"hello\",     # Invalid: 'hello' doesn't read the same forward and backward.\n",
        "        \"a\",         # Valid: A single character is always a palindrome.\n",
        "        \"madam\",     # Valid: 'madam' reads the same forward and backward.\n",
        "        \"abcba\",     # Valid: 'abcba' reads the same forward and backward.\n",
        "        \"abccba\",    # Valid: 'abccba' reads the same forward and backward.\n",
        "        \"abca\",      # Invalid: 'abca' doesn't read the same forward and backward.\n",
        "    ],\n",
        "\n",
        "    \"equal_a_b\": [  # Strings with an equal number of 'a' and 'b' in any order\n",
        "        \"ab\",        # Valid: One 'a' and one 'b'.\n",
        "        \"aabb\",      # Valid: Two 'a's and two 'b's.\n",
        "        \"ba\",        # Valid: One 'b' and one 'a', order doesn't matter.\n",
        "        \"aabbb\",     # Invalid: Three 'b's and two 'a's (not equal number).\n",
        "        \"abab\",      # Valid: Two 'a's and two 'b's.\n",
        "        \"a\",         # Invalid: Only one 'a', no 'b'.\n",
        "        \"b\",         # Invalid: Only one 'b', no 'a'.\n",
        "        \"aaabbb\",    # Valid: Three 'a's and three 'b's.\n",
        "    ],\n",
        "\n",
        "    \"balanced_parentheses\": [  # Strings with properly nested and balanced parentheses\n",
        "        \"()\",         # Valid: Simple valid case with one pair.\n",
        "        \"(())\",       # Valid: Nested parentheses.\n",
        "        \"()()\",       # Valid: Multiple valid pairs.\n",
        "        \"(()())\",     # Valid: Nested pairs with valid structure.\n",
        "        \"(()\",        # Invalid: Open parentheses without a closing pair.\n",
        "        \"())\",        # Invalid: Extra closing parenthesis without matching open.\n",
        "        \"((())\",      # Invalid: Unmatched parentheses.\n",
        "        \"()\",         # Valid: A single pair of parentheses is valid.\n",
        "        \"((()))\",     # Valid: Properly nested and balanced parentheses.\n",
        "    ],\n",
        "\n",
        "    \"a^n_b^n_c^n\": [  # Strings with n 'a', followed by n 'b', followed by n 'c'\n",
        "        \"abc\",        # Valid: One 'a', one 'b', one 'c'.\n",
        "        \"aabbcc\",     # Valid: Two 'a's, two 'b's, two 'c's.\n",
        "        \"aaabbbccc\",  # Valid: Three 'a's, three 'b's, three 'c's.\n",
        "        \"abcabc\",     # Invalid: Two occurrences of the pattern, but not the correct structure.\n",
        "        \"aabbbc\",     # Invalid: The number of 'b's and 'c's doesn't match the number of 'a's.\n",
        "        \"aaaabbbbcccc\", # Valid: Four 'a's, four 'b's, four 'c's.\n",
        "        \"abcc\",       # Invalid: One 'a', one 'b', two 'c's, not the same number.\n",
        "        \"aaabbbccc\",  # Valid: Three 'a's, three 'b's, three 'c's.\n",
        "    ],\n",
        "}\n",
        "\n",
        "# Verify AI given Examples\n",
        "print(\"OpenAI model GPT-4o mini given examples\")\n",
        "for grammar_name, test_strings in examples.items():\n",
        "    print(f\"Testing AI ChatGPT given grammar: {grammar_name}\")\n",
        "    for string in test_strings:\n",
        "        result = validators[grammar_name](string)\n",
        "        status = \"ACCEPTED\" if result else \"REJECTED\"\n",
        "        print(f\"  String '{string}': {status}\")\n",
        "    print()"
      ],
      "metadata": {
        "colab": {
          "base_uri": "https://localhost:8080/"
        },
        "id": "-nkQvEBTayys",
        "outputId": "983fc084-9eb8-4008-c493-f316c5b03fd2"
      },
      "execution_count": null,
      "outputs": [
        {
          "output_type": "stream",
          "name": "stdout",
          "text": [
            "OpenAI model GPT-4o mini given examples\n",
            "Testing AI ChatGPT given grammar: palindromes\n",
            "  String 'racecar': ACCEPTED\n",
            "  String 'level': ACCEPTED\n",
            "  String 'hello': REJECTED\n",
            "  String 'a': ACCEPTED\n",
            "  String 'madam': ACCEPTED\n",
            "  String 'abcba': ACCEPTED\n",
            "  String 'abccba': ACCEPTED\n",
            "  String 'abca': REJECTED\n",
            "\n",
            "Testing AI ChatGPT given grammar: equal_a_b\n",
            "  String 'ab': ACCEPTED\n",
            "  String 'aabb': ACCEPTED\n",
            "  String 'ba': ACCEPTED\n",
            "  String 'aabbb': REJECTED\n",
            "  String 'abab': ACCEPTED\n",
            "  String 'a': REJECTED\n",
            "  String 'b': REJECTED\n",
            "  String 'aaabbb': ACCEPTED\n",
            "\n",
            "Testing AI ChatGPT given grammar: balanced_parentheses\n",
            "  String '()': ACCEPTED\n",
            "  String '(())': ACCEPTED\n",
            "  String '()()': ACCEPTED\n",
            "  String '(()())': ACCEPTED\n",
            "  String '(()': REJECTED\n",
            "  String '())': REJECTED\n",
            "  String '((())': REJECTED\n",
            "  String '()': ACCEPTED\n",
            "  String '((()))': ACCEPTED\n",
            "\n",
            "Testing AI ChatGPT given grammar: a^n_b^n_c^n\n",
            "  String 'abc': ACCEPTED\n",
            "  String 'aabbcc': ACCEPTED\n",
            "  String 'aaabbbccc': ACCEPTED\n",
            "  String 'abcabc': REJECTED\n",
            "  String 'aabbbc': REJECTED\n",
            "  String 'aaaabbbbcccc': ACCEPTED\n",
            "  String 'abcc': REJECTED\n",
            "  String 'aaabbbccc': ACCEPTED\n",
            "\n"
          ]
        }
      ]
    },
    {
      "cell_type": "code",
      "source": [
        "# 1. Palindromes\n",
        "palindrome_rules = {\n",
        "    \"S\": [\"\", \"aSa\", \"bSb\", \"cSc\"]  # Base cases and recursive symmetry\n",
        "}\n",
        "\n",
        "# 2. Strings with Equal Numbers of 'a' and 'b'\n",
        "equal_a_b_rules = {\n",
        "    \"S\": [\"\", \"aSb\", \"bSa\", \"SS\"]  # Balancing and concatenation\n",
        "}\n",
        "\n",
        "# 3. Balanced Parentheses\n",
        "balanced_parentheses_rules = {\n",
        "    \"S\": [\"\", \"(S)\", \"SS\"]  # Matching parentheses and concatenation\n",
        "}\n",
        "\n",
        "# 4. Strings of Form 'a^n b^n c^n'\n",
        "an_bn_cn_rules = {\n",
        "    \"S\": [\"\", \"aSbSc\"]  # Equal numbers of 'a', 'b', and 'c' in sequence\n",
        "}\n",
        "\n",
        "# Example of how to print the rules\n",
        "def print_rules(grammar):\n",
        "    for non_terminal, productions in grammar.items():\n",
        "        print(f\"{non_terminal} -> {' | '.join(productions)}\")\n",
        "\n",
        "# Print all grammars\n",
        "print(\"Palindrome Grammar:\")\n",
        "print_rules(palindrome_rules)\n",
        "print(\"\\nEqual 'a' and 'b' Grammar:\")\n",
        "print_rules(equal_a_b_rules)\n",
        "print(\"\\nBalanced Parentheses Grammar:\")\n",
        "print_rules(balanced_parentheses_rules)\n",
        "print(\"\\n'a^n b^n c^n' Grammar:\")\n",
        "print_rules(an_bn_cn_rules)\n"
      ],
      "metadata": {
        "colab": {
          "base_uri": "https://localhost:8080/"
        },
        "id": "gNEd1WnzZaMI",
        "outputId": "6ee316f9-685d-425c-b89e-cd394a80ca40"
      },
      "execution_count": 2,
      "outputs": [
        {
          "output_type": "stream",
          "name": "stdout",
          "text": [
            "Palindrome Grammar:\n",
            "S ->  | aSa | bSb | cSc\n",
            "\n",
            "Equal 'a' and 'b' Grammar:\n",
            "S ->  | aSb | bSa | SS\n",
            "\n",
            "Balanced Parentheses Grammar:\n",
            "S ->  | (S) | SS\n",
            "\n",
            "'a^n b^n c^n' Grammar:\n",
            "S ->  | aSbSc\n"
          ]
        }
      ]
    },
    {
      "cell_type": "markdown",
      "source": [
        "#Assignment Operations CFG\n"
      ],
      "metadata": {
        "id": "4jU6Rn2mqQyz"
      }
    },
    {
      "cell_type": "code",
      "source": [
        "from pyparsing import Word, alphas, nums, oneOf, Combine, Group, Optional, ParseException\n",
        "\n",
        "# Define grammar rules\n",
        "identifier = Word(alphas + \"_\", alphas + nums + \"_\")  # Identifiers start with a letter or underscore\n",
        "digit = oneOf(\"0 1 2 3 4 5 6 7 8 9\")  # Single digit\n",
        "number = Combine(digit + Optional(Word(nums)))  # A number is one or more digits\n",
        "expr = (identifier + \"+\" + identifier) | (identifier + \"-\" + identifier) | number  # Expressions\n",
        "assign = identifier + \"=\" + expr  # Assignment operation\n",
        "\n",
        "# Validation function\n",
        "def validate_assignment_operation(string):\n",
        "    try:\n",
        "        # Attempt to parse the string with the assignment grammar\n",
        "        assign.parseString(string, parseAll=True)\n",
        "        return True  # If parsing succeeds, the string is valid\n",
        "    except ParseException as e:\n",
        "        return False  # If parsing fails, the string is invalid\n"
      ],
      "metadata": {
        "id": "H7ufP0tpxEDn"
      },
      "execution_count": null,
      "outputs": []
    },
    {
      "cell_type": "markdown",
      "source": [
        "##Productions"
      ],
      "metadata": {
        "id": "PCiY3J0j1ugt"
      }
    },
    {
      "cell_type": "code",
      "source": [
        "#Examples\n",
        "examples = [\n",
        "    \"x = y + z\",\n",
        "    \"result =\",\n",
        "]\n",
        "\n",
        "print(\"Examples xamples\")\n",
        "# Process examples\n",
        "for example in examples:\n",
        "    result = validate_assignment_operation(example)\n",
        "    print(f\"'{example}' is {'Valid' if result else 'Invalid'}\")\n"
      ],
      "metadata": {
        "colab": {
          "base_uri": "https://localhost:8080/"
        },
        "id": "Uc_0un-C1wFE",
        "outputId": "e006bf33-fe0a-4313-88c0-99af36e8168e"
      },
      "execution_count": null,
      "outputs": [
        {
          "output_type": "stream",
          "name": "stdout",
          "text": [
            "Examples xamples\n",
            "'x = y + z' is Valid\n",
            "'result =' is Invalid\n"
          ]
        }
      ]
    },
    {
      "cell_type": "markdown",
      "source": [
        "## Open AI model GPT-4o mini Productions"
      ],
      "metadata": {
        "id": "OuRTdVRb12Hz"
      }
    },
    {
      "cell_type": "code",
      "source": [
        "#Examples\n",
        "examples = [\n",
        "    \"a = b - c\",\n",
        "    \"var1 = 123\",\n",
        "    \"value = 4 + y\",\n",
        "    \"num = 12x\",\n",
        "    \"z = 1 - 2\",\n",
        "    \"x = y + 1\",\n",
        "    \"x = 0\",\n",
        "]\n",
        "# Process examples\n",
        "print(\"OpenAI model GPT-4o mini given examples\")\n",
        "for example in examples:\n",
        "    result = validate_assignment_operation(example)\n",
        "    print(f\"'{example}' is {'Valid' if result else 'Invalid'}\")\n"
      ],
      "metadata": {
        "colab": {
          "base_uri": "https://localhost:8080/"
        },
        "id": "nw_RGUI919xV",
        "outputId": "4145ce69-1548-438d-e5d7-3872de84bde6"
      },
      "execution_count": null,
      "outputs": [
        {
          "output_type": "stream",
          "name": "stdout",
          "text": [
            "OpenAI model GPT-4o mini given examples\n",
            "'a = b - c' is Valid\n",
            "'var1 = 123' is Valid\n",
            "'value = 4 + y' is Invalid\n",
            "'num = 12x' is Invalid\n",
            "'z = 1 - 2' is Invalid\n",
            "'x = y + 1' is Invalid\n",
            "'x = 0' is Valid\n"
          ]
        }
      ]
    }
  ]
}